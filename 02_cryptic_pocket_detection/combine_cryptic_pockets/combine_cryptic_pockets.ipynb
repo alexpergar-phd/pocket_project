{
 "cells": [
  {
   "cell_type": "markdown",
   "id": "0a611adb",
   "metadata": {},
   "source": [
    "This script takes the list of cryptic pockets (dynIDs, trajIDs and pocketIDs), aligns the structures and outputs a final structure with the cryptic pocket locations"
   ]
  },
  {
   "cell_type": "code",
   "execution_count": 1,
   "id": "068d33a2",
   "metadata": {},
   "outputs": [
    {
     "name": "stderr",
     "output_type": "stream",
     "text": [
      "/tmp/ipykernel_8444/3391631984.py:3: DeprecationWarning: \n",
      "Pyarrow will become a required dependency of pandas in the next major release of pandas (pandas 3.0),\n",
      "(to allow more performant data types, such as the Arrow string type, and better interoperability with other libraries)\n",
      "but was not found to be installed on your system.\n",
      "If this would cause problems for you,\n",
      "please provide us feedback at https://github.com/pandas-dev/pandas/issues/54466\n",
      "        \n",
      "  import pandas as pd\n"
     ]
    }
   ],
   "source": [
    "import os\n",
    "import json\n",
    "import pandas as pd\n",
    "import uuid\n",
    "import subprocess"
   ]
  },
  {
   "cell_type": "code",
   "execution_count": 2,
   "id": "3629484a",
   "metadata": {},
   "outputs": [],
   "source": [
    "input_csv_path = \"/home/alex/Documents/pocket_tool/results/02_cryptic_pocket_detection/00_detecting_based_on_volume/output_250730/cryptic_pockets_filtered_100_100.csv\"\n",
    "\n",
    "ROOT_GPCRMD = \"/home/alex/Desktop/gpcrmd_mount/media/computation/files\"\n",
    "TMP_DIR = \"/home/alex/Desktop\"\n",
    "REFERENCE_GPCR = \"/home/alex/Documents/pocket_tool/data/ref_gpcr/data/a2a_6gdg_opm_rotated.pdb\"\n",
    "CHIMERA = \"/home/alex/.local/UCSF-Chimera64-1.17.3/bin/chimera\"\n",
    "RESULTS_DIR = \"/home/alex/Documents/pocket_tool/results/02_cryptic_pocket_detection/01_aligning_structures\"\n",
    "\n",
    "TM_RESIDS_REF = \"1-34,39-69,73-108,117-142,173-213,219-259,266-291\" \n",
    "# ^-- Obtained by extracting it from GPCRdb GPCR \"aa2ar_human\".\n",
    "COMPL_INFO_PATH = os.path.join(\"/home/alex/Desktop/gpcrmd_mount/media/files\", \"Precomputed/compl_info.json\")"
   ]
  },
  {
   "cell_type": "code",
   "execution_count": 5,
   "id": "26705338",
   "metadata": {},
   "outputs": [],
   "source": [
    "def get_target_ids(csv_path):\n",
    "    \"\"\"\n",
    "    Extracts unique dynamic IDs, trajectory IDs, and pocket IDs from a CSV\n",
    "    file.\n",
    "    \"\"\"\n",
    "    df = pd.read_csv(csv_path)\n",
    "    dyn_ids = df[\"dyn_id\"]\n",
    "    traj_ids = df[\"traj_id\"]\n",
    "    pocket_ids = df[\"pocket_id\"]\n",
    "\n",
    "    return zip(dyn_ids, traj_ids, pocket_ids)\n",
    "\n",
    "\n",
    "def read_json_into_dict(json_path):\n",
    "    \"\"\"\n",
    "    Reads a JSON file and returns the data as a dictionary.\n",
    "    \"\"\"\n",
    "    with open(json_path, 'r') as f:\n",
    "        data = json.load(f)\n",
    "    return data\n",
    "\n",
    "\n",
    "def get_tm_resids(entry_data):\n",
    "    \"\"\"\n",
    "    Extracts and returns a list of residue IDs corresponding to transmembrane (TM) regions\n",
    "    from the given entry data.\n",
    "    The function processes the 'gpcr_pdb' dictionary within the entry data, identifying\n",
    "    residues associated with Ballesteros-Weinstein (BW) numbering that belong to TM regions\n",
    "    (BW numbers starting with digits 1 through 7 followed by 'x').\n",
    "    Args:\n",
    "        entry_data (dict): A dictionary containing GPCR-related data. It is expected to have\n",
    "                           a 'gpcr_pdb' key, which maps BW numbers to strings in the format\n",
    "                           \"resid-chain-resname\".\n",
    "    Returns:\n",
    "        list: A list of integers representing the residue IDs of TM regions.\n",
    "    \"\"\"\n",
    "    tm_resids = []\n",
    "    for bw, resid_chain_resname in entry_data.get('gpcr_pdb', {}).items():\n",
    "        if bw[0] in \"1234567\" and bw[1] == \"x\":\n",
    "            resid = resid_chain_resname.split(\"-\")[0]\n",
    "            tm_resids.append(int(resid))\n",
    "    return tm_resids\n",
    "\n",
    "\n",
    "def convert_to_ranges(resids):\n",
    "    \"\"\"\n",
    "    Converts a list of residue IDs into a range format (e.g., 33-94,102-137).\n",
    "    This is for a correct functioning of Chimera's mm command.\n",
    "\n",
    "    Args:\n",
    "        resids (list of int): List of residue IDs.\n",
    "\n",
    "    Returns:\n",
    "        str: A string with ranges of residue IDs.\n",
    "    \"\"\"\n",
    "    resids = list(map(int, resids))  # Ensure all are integers\n",
    "    resids = sorted(set(resids))  # Sort and remove duplicates\n",
    "    ranges = []\n",
    "    start = resids[0]\n",
    "    end = resids[0]\n",
    "\n",
    "    for i in range(1, len(resids)):\n",
    "        if resids[i] == end + 1:\n",
    "            # Extend the range\n",
    "            end = resids[i]\n",
    "        else:\n",
    "            # Close the current range and start a new one\n",
    "            if start == end:\n",
    "                ranges.append(f\"{start}\")\n",
    "            else:\n",
    "                ranges.append(f\"{start}-{end}\")\n",
    "            start = resids[i]\n",
    "            end = resids[i]\n",
    "\n",
    "    # Add the final range\n",
    "    if start == end:\n",
    "        ranges.append(f\"{start}\")\n",
    "    else:\n",
    "        ranges.append(f\"{start}-{end}\")\n",
    "\n",
    "    return \",\".join(ranges)\n",
    "\n",
    "\n",
    "def generate_dirs():\n",
    "    \"\"\"\n",
    "    Generates necessary directories for storing results.\n",
    "    \"\"\"\n",
    "    os.makedirs(f'{RESULTS_DIR}/aligned_pdbs/', exist_ok=True)\n",
    "    os.makedirs(f'{RESULTS_DIR}/aligned_pdbs/aligned_pockets', exist_ok=True)\n",
    "    os.makedirs(f'{RESULTS_DIR}/aligned_pdbs/aligned_receptors', exist_ok=True)\n",
    "\n",
    "\n",
    "def chimera_align(target_pdb, pocket_pdb, tm_resids_target_sel, ids):\n",
    "    \"\"\"\n",
    "    \"\"\"\n",
    "    aligned_pdb_basename = os.path.basename(target_pdb).replace(\".pdb\", \"_tmaligned.pdb\")\n",
    "    aligned_pdb_path = f'{RESULTS_DIR}/aligned_pdbs/aligned_receptors/{aligned_pdb_basename}'\n",
    "\n",
    "    # aligned_pocket_basename = os.path.basename(pocket_pdb).replace(\".pdb\", \"_tmaligned.pdb\")\n",
    "    aligned_pocket_basename = f'dyn_{ids[0]}_traj_{ids[1]}_pocket_{ids[2]}_tmaligned.pdb'\n",
    "    aligned_pocket_path = f'{RESULTS_DIR}/aligned_pdbs/aligned_pockets/{aligned_pocket_basename}'\n",
    "\n",
    "    chimera_script = (\n",
    "        f'open {REFERENCE_GPCR}; '                    # Model #0\n",
    "        f'open {target_pdb}; '                        # Model #1\n",
    "        f'open {pocket_pdb}; '                        # Model #2\n",
    "        f'mm #1:{tm_resids_target_sel} #0:{TM_RESIDS_REF}; '  # Align model #1 to #0\n",
    "        f'matrixcopy #1 #2; '                         # Apply same transformation to #2\n",
    "        f'select #1 & protein; write selected relative 0 #1 {aligned_pdb_path};' # Save aligned target GPCR\n",
    "        f'write relative 0 #2 {aligned_pocket_path};' # Save aligned pocket\n",
    "    )\n",
    "\n",
    "    # Writing and executing the chimera align script.\n",
    "    tmp_script = os.path.join(\n",
    "        TMP_DIR, f'tmp_chimera_script_{str(uuid.uuid4())}')\n",
    "    with open(tmp_script, \"w\") as fh:\n",
    "        print(chimera_script, file=fh)\n",
    "\n",
    "    subprocess.run(\n",
    "        [CHIMERA, '--nogui', f'cmd:{tmp_script}'], \n",
    "        stdout=subprocess.PIPE,  # Capture standard output\n",
    "        text=True                # Decode output as string\n",
    "    )\n",
    "\n",
    "    # Clean up the temporary files.\n",
    "    os.remove(tmp_script)\n",
    "    \n",
    "    "
   ]
  },
  {
   "cell_type": "code",
   "execution_count": 8,
   "id": "abc736ed",
   "metadata": {},
   "outputs": [
    {
     "name": "stdout",
     "output_type": "stream",
     "text": [
      "[PROGRESS] Processing dynID 24, trajectory 10293, pocket 15 ...\n",
      "/home/alex/Desktop/gpcrmd_mount/media/computation/files/Dynamics/10289_dyn_24.pdb\n",
      "/home/alex/Desktop/gpcrmd_mount/media/computation/files/Precomputed/MDpocket/10293_trj_24.xtc_mdpocket/DBSCANclustering_coordinates_pdb_10293_trj_24.xtc/15_coordinates_DBSCAN.pdb\n"
     ]
    },
    {
     "name": "stderr",
     "output_type": "stream",
     "text": [
      "You have used an unregistered copy of Chimera for 80 days.\n",
      "You can either register now by visiting:\n",
      "   http://www.cgl.ucsf.edu/cgi-bin/chimera_registration.py\n",
      "or by choosing 'Registration...' from the 'Help' menu next\n",
      "time you start Chimera with the gui enabled.\n",
      "\n",
      "Registration is free.  By providing the information requested\n",
      "you will be helping us document the impact this software is\n",
      "having in the scientific community. The information you supply\n",
      "will only be used for reporting summary statistics to NIH.\n"
     ]
    },
    {
     "name": "stdout",
     "output_type": "stream",
     "text": [
      "[PROGRESS] Processing dynID 33, trajectory 10366, pocket 3 ...\n",
      "/home/alex/Desktop/gpcrmd_mount/media/computation/files/Dynamics/10372_dyn_33.pdb\n",
      "/home/alex/Desktop/gpcrmd_mount/media/computation/files/Precomputed/MDpocket/10366_trj_33.xtc_mdpocket/DBSCANclustering_coordinates_pdb_10366_trj_33.xtc/3_coordinates_DBSCAN.pdb\n"
     ]
    },
    {
     "name": "stderr",
     "output_type": "stream",
     "text": [
      "You have used an unregistered copy of Chimera for 80 days.\n",
      "You can either register now by visiting:\n",
      "   http://www.cgl.ucsf.edu/cgi-bin/chimera_registration.py\n",
      "or by choosing 'Registration...' from the 'Help' menu next\n",
      "time you start Chimera with the gui enabled.\n",
      "\n",
      "Registration is free.  By providing the information requested\n",
      "you will be helping us document the impact this software is\n",
      "having in the scientific community. The information you supply\n",
      "will only be used for reporting summary statistics to NIH.\n"
     ]
    },
    {
     "name": "stdout",
     "output_type": "stream",
     "text": [
      "[PROGRESS] Processing dynID 34, trajectory 10374, pocket 7 ...\n",
      "/home/alex/Desktop/gpcrmd_mount/media/computation/files/Dynamics/10379_dyn_34.pdb\n",
      "/home/alex/Desktop/gpcrmd_mount/media/computation/files/Precomputed/MDpocket/10374_trj_34.xtc_mdpocket/DBSCANclustering_coordinates_pdb_10374_trj_34.xtc/7_coordinates_DBSCAN.pdb\n"
     ]
    },
    {
     "name": "stderr",
     "output_type": "stream",
     "text": [
      "You have used an unregistered copy of Chimera for 80 days.\n",
      "You can either register now by visiting:\n",
      "   http://www.cgl.ucsf.edu/cgi-bin/chimera_registration.py\n",
      "or by choosing 'Registration...' from the 'Help' menu next\n",
      "time you start Chimera with the gui enabled.\n",
      "\n",
      "Registration is free.  By providing the information requested\n",
      "you will be helping us document the impact this software is\n",
      "having in the scientific community. The information you supply\n",
      "will only be used for reporting summary statistics to NIH.\n"
     ]
    },
    {
     "name": "stdout",
     "output_type": "stream",
     "text": [
      "[PROGRESS] Processing dynID 35, trajectory 10387, pocket 25 ...\n",
      "/home/alex/Desktop/gpcrmd_mount/media/computation/files/Dynamics/10382_dyn_35.pdb\n",
      "/home/alex/Desktop/gpcrmd_mount/media/computation/files/Precomputed/MDpocket/10387_trj_35.xtc_mdpocket/DBSCANclustering_coordinates_pdb_10387_trj_35.xtc/25_coordinates_DBSCAN.pdb\n"
     ]
    },
    {
     "name": "stderr",
     "output_type": "stream",
     "text": [
      "You have used an unregistered copy of Chimera for 80 days.\n",
      "You can either register now by visiting:\n",
      "   http://www.cgl.ucsf.edu/cgi-bin/chimera_registration.py\n",
      "or by choosing 'Registration...' from the 'Help' menu next\n",
      "time you start Chimera with the gui enabled.\n",
      "\n",
      "Registration is free.  By providing the information requested\n",
      "you will be helping us document the impact this software is\n",
      "having in the scientific community. The information you supply\n",
      "will only be used for reporting summary statistics to NIH.\n"
     ]
    },
    {
     "name": "stdout",
     "output_type": "stream",
     "text": [
      "[PROGRESS] Processing dynID 36, trajectory 10398, pocket 9 ...\n",
      "/home/alex/Desktop/gpcrmd_mount/media/computation/files/Dynamics/10394_dyn_36.pdb\n",
      "/home/alex/Desktop/gpcrmd_mount/media/computation/files/Precomputed/MDpocket/10398_trj_36.xtc_mdpocket/DBSCANclustering_coordinates_pdb_10398_trj_36.xtc/9_coordinates_DBSCAN.pdb\n"
     ]
    },
    {
     "name": "stderr",
     "output_type": "stream",
     "text": [
      "You have used an unregistered copy of Chimera for 80 days.\n",
      "You can either register now by visiting:\n",
      "   http://www.cgl.ucsf.edu/cgi-bin/chimera_registration.py\n",
      "or by choosing 'Registration...' from the 'Help' menu next\n",
      "time you start Chimera with the gui enabled.\n",
      "\n",
      "Registration is free.  By providing the information requested\n",
      "you will be helping us document the impact this software is\n",
      "having in the scientific community. The information you supply\n",
      "will only be used for reporting summary statistics to NIH.\n"
     ]
    },
    {
     "name": "stdout",
     "output_type": "stream",
     "text": [
      "[PROGRESS] Processing dynID 37, trajectory 10406, pocket 6 ...\n",
      "/home/alex/Desktop/gpcrmd_mount/media/computation/files/Dynamics/10402_dyn_37.pdb\n",
      "/home/alex/Desktop/gpcrmd_mount/media/computation/files/Precomputed/MDpocket/10406_trj_37.xtc_mdpocket/DBSCANclustering_coordinates_pdb_10406_trj_37.xtc/6_coordinates_DBSCAN.pdb\n"
     ]
    },
    {
     "name": "stderr",
     "output_type": "stream",
     "text": [
      "You have used an unregistered copy of Chimera for 80 days.\n",
      "You can either register now by visiting:\n",
      "   http://www.cgl.ucsf.edu/cgi-bin/chimera_registration.py\n",
      "or by choosing 'Registration...' from the 'Help' menu next\n",
      "time you start Chimera with the gui enabled.\n",
      "\n",
      "Registration is free.  By providing the information requested\n",
      "you will be helping us document the impact this software is\n",
      "having in the scientific community. The information you supply\n",
      "will only be used for reporting summary statistics to NIH.\n"
     ]
    },
    {
     "name": "stdout",
     "output_type": "stream",
     "text": [
      "[PROGRESS] Processing dynID 37, trajectory 10408, pocket 5 ...\n",
      "/home/alex/Desktop/gpcrmd_mount/media/computation/files/Dynamics/10402_dyn_37.pdb\n",
      "/home/alex/Desktop/gpcrmd_mount/media/computation/files/Precomputed/MDpocket/10408_trj_37.xtc_mdpocket/DBSCANclustering_coordinates_pdb_10408_trj_37.xtc/5_coordinates_DBSCAN.pdb\n"
     ]
    },
    {
     "name": "stderr",
     "output_type": "stream",
     "text": [
      "You have used an unregistered copy of Chimera for 80 days.\n",
      "You can either register now by visiting:\n",
      "   http://www.cgl.ucsf.edu/cgi-bin/chimera_registration.py\n",
      "or by choosing 'Registration...' from the 'Help' menu next\n",
      "time you start Chimera with the gui enabled.\n",
      "\n",
      "Registration is free.  By providing the information requested\n",
      "you will be helping us document the impact this software is\n",
      "having in the scientific community. The information you supply\n",
      "will only be used for reporting summary statistics to NIH.\n"
     ]
    },
    {
     "name": "stdout",
     "output_type": "stream",
     "text": [
      "[PROGRESS] Processing dynID 43, trajectory 10460, pocket 4 ...\n",
      "/home/alex/Desktop/gpcrmd_mount/media/computation/files/Dynamics/10454_dyn_43.pdb\n",
      "/home/alex/Desktop/gpcrmd_mount/media/computation/files/Precomputed/MDpocket/10460_trj_43.xtc_mdpocket/DBSCANclustering_coordinates_pdb_10460_trj_43.xtc/4_coordinates_DBSCAN.pdb\n"
     ]
    },
    {
     "name": "stderr",
     "output_type": "stream",
     "text": [
      "You have used an unregistered copy of Chimera for 80 days.\n",
      "You can either register now by visiting:\n",
      "   http://www.cgl.ucsf.edu/cgi-bin/chimera_registration.py\n",
      "or by choosing 'Registration...' from the 'Help' menu next\n",
      "time you start Chimera with the gui enabled.\n",
      "\n",
      "Registration is free.  By providing the information requested\n",
      "you will be helping us document the impact this software is\n",
      "having in the scientific community. The information you supply\n",
      "will only be used for reporting summary statistics to NIH.\n"
     ]
    },
    {
     "name": "stdout",
     "output_type": "stream",
     "text": [
      "[PROGRESS] Processing dynID 44, trajectory 10462, pocket 15 ...\n",
      "/home/alex/Desktop/gpcrmd_mount/media/computation/files/Dynamics/10468_dyn_44.pdb\n",
      "/home/alex/Desktop/gpcrmd_mount/media/computation/files/Precomputed/MDpocket/10462_trj_44.xtc_mdpocket/DBSCANclustering_coordinates_pdb_10462_trj_44.xtc/15_coordinates_DBSCAN.pdb\n"
     ]
    },
    {
     "name": "stderr",
     "output_type": "stream",
     "text": [
      "You have used an unregistered copy of Chimera for 80 days.\n",
      "You can either register now by visiting:\n",
      "   http://www.cgl.ucsf.edu/cgi-bin/chimera_registration.py\n",
      "or by choosing 'Registration...' from the 'Help' menu next\n",
      "time you start Chimera with the gui enabled.\n",
      "\n",
      "Registration is free.  By providing the information requested\n",
      "you will be helping us document the impact this software is\n",
      "having in the scientific community. The information you supply\n",
      "will only be used for reporting summary statistics to NIH.\n"
     ]
    },
    {
     "name": "stdout",
     "output_type": "stream",
     "text": [
      "[PROGRESS] Processing dynID 52, trajectory 10530, pocket 0 ...\n",
      "/home/alex/Desktop/gpcrmd_mount/media/computation/files/Dynamics/10535_dyn_52.pdb\n",
      "/home/alex/Desktop/gpcrmd_mount/media/computation/files/Precomputed/MDpocket/10530_trj_52.xtc_mdpocket/DBSCANclustering_coordinates_pdb_10530_trj_52.xtc/0_coordinates_DBSCAN.pdb\n"
     ]
    },
    {
     "name": "stderr",
     "output_type": "stream",
     "text": [
      "You have used an unregistered copy of Chimera for 80 days.\n",
      "You can either register now by visiting:\n",
      "   http://www.cgl.ucsf.edu/cgi-bin/chimera_registration.py\n",
      "or by choosing 'Registration...' from the 'Help' menu next\n",
      "time you start Chimera with the gui enabled.\n",
      "\n",
      "Registration is free.  By providing the information requested\n",
      "you will be helping us document the impact this software is\n",
      "having in the scientific community. The information you supply\n",
      "will only be used for reporting summary statistics to NIH.\n"
     ]
    },
    {
     "name": "stdout",
     "output_type": "stream",
     "text": [
      "[PROGRESS] Processing dynID 53, trajectory 10538, pocket 18 ...\n",
      "/home/alex/Desktop/gpcrmd_mount/media/computation/files/Dynamics/10541_dyn_53.pdb\n",
      "/home/alex/Desktop/gpcrmd_mount/media/computation/files/Precomputed/MDpocket/10538_trj_53.xtc_mdpocket/DBSCANclustering_coordinates_pdb_10538_trj_53.xtc/18_coordinates_DBSCAN.pdb\n"
     ]
    },
    {
     "name": "stderr",
     "output_type": "stream",
     "text": [
      "You have used an unregistered copy of Chimera for 80 days.\n",
      "You can either register now by visiting:\n",
      "   http://www.cgl.ucsf.edu/cgi-bin/chimera_registration.py\n",
      "or by choosing 'Registration...' from the 'Help' menu next\n",
      "time you start Chimera with the gui enabled.\n",
      "\n",
      "Registration is free.  By providing the information requested\n",
      "you will be helping us document the impact this software is\n",
      "having in the scientific community. The information you supply\n",
      "will only be used for reporting summary statistics to NIH.\n"
     ]
    },
    {
     "name": "stdout",
     "output_type": "stream",
     "text": [
      "[PROGRESS] Processing dynID 54, trajectory 10544, pocket 19 ...\n",
      "/home/alex/Desktop/gpcrmd_mount/media/computation/files/Dynamics/10550_dyn_54.pdb\n",
      "/home/alex/Desktop/gpcrmd_mount/media/computation/files/Precomputed/MDpocket/10544_trj_54.xtc_mdpocket/DBSCANclustering_coordinates_pdb_10544_trj_54.xtc/19_coordinates_DBSCAN.pdb\n"
     ]
    },
    {
     "name": "stderr",
     "output_type": "stream",
     "text": [
      "You have used an unregistered copy of Chimera for 80 days.\n",
      "You can either register now by visiting:\n",
      "   http://www.cgl.ucsf.edu/cgi-bin/chimera_registration.py\n",
      "or by choosing 'Registration...' from the 'Help' menu next\n",
      "time you start Chimera with the gui enabled.\n",
      "\n",
      "Registration is free.  By providing the information requested\n",
      "you will be helping us document the impact this software is\n",
      "having in the scientific community. The information you supply\n",
      "will only be used for reporting summary statistics to NIH.\n"
     ]
    },
    {
     "name": "stdout",
     "output_type": "stream",
     "text": [
      "[PROGRESS] Processing dynID 62, trajectory 10620, pocket 19 ...\n",
      "/home/alex/Desktop/gpcrmd_mount/media/computation/files/Dynamics/10624_dyn_62.pdb\n",
      "/home/alex/Desktop/gpcrmd_mount/media/computation/files/Precomputed/MDpocket/10620_trj_62.xtc_mdpocket/DBSCANclustering_coordinates_pdb_10620_trj_62.xtc/19_coordinates_DBSCAN.pdb\n"
     ]
    },
    {
     "name": "stderr",
     "output_type": "stream",
     "text": [
      "You have used an unregistered copy of Chimera for 80 days.\n",
      "You can either register now by visiting:\n",
      "   http://www.cgl.ucsf.edu/cgi-bin/chimera_registration.py\n",
      "or by choosing 'Registration...' from the 'Help' menu next\n",
      "time you start Chimera with the gui enabled.\n",
      "\n",
      "Registration is free.  By providing the information requested\n",
      "you will be helping us document the impact this software is\n",
      "having in the scientific community. The information you supply\n",
      "will only be used for reporting summary statistics to NIH.\n"
     ]
    },
    {
     "name": "stdout",
     "output_type": "stream",
     "text": [
      "[PROGRESS] Processing dynID 66, trajectory 10657, pocket 11 ...\n",
      "/home/alex/Desktop/gpcrmd_mount/media/computation/files/Dynamics/10661_dyn_66.pdb\n",
      "/home/alex/Desktop/gpcrmd_mount/media/computation/files/Precomputed/MDpocket/10657_trj_66.xtc_mdpocket/DBSCANclustering_coordinates_pdb_10657_trj_66.xtc/11_coordinates_DBSCAN.pdb\n"
     ]
    },
    {
     "name": "stderr",
     "output_type": "stream",
     "text": [
      "You have used an unregistered copy of Chimera for 80 days.\n",
      "You can either register now by visiting:\n",
      "   http://www.cgl.ucsf.edu/cgi-bin/chimera_registration.py\n",
      "or by choosing 'Registration...' from the 'Help' menu next\n",
      "time you start Chimera with the gui enabled.\n",
      "\n",
      "Registration is free.  By providing the information requested\n",
      "you will be helping us document the impact this software is\n",
      "having in the scientific community. The information you supply\n",
      "will only be used for reporting summary statistics to NIH.\n"
     ]
    },
    {
     "name": "stdout",
     "output_type": "stream",
     "text": [
      "[PROGRESS] Processing dynID 80, trajectory 10785, pocket 11 ...\n",
      "/home/alex/Desktop/gpcrmd_mount/media/computation/files/Dynamics/10788_dyn_80.pdb\n",
      "/home/alex/Desktop/gpcrmd_mount/media/computation/files/Precomputed/MDpocket/10785_trj_80.xtc_mdpocket/DBSCANclustering_coordinates_pdb_10785_trj_80.xtc/11_coordinates_DBSCAN.pdb\n"
     ]
    },
    {
     "name": "stderr",
     "output_type": "stream",
     "text": [
      "You have used an unregistered copy of Chimera for 80 days.\n",
      "You can either register now by visiting:\n",
      "   http://www.cgl.ucsf.edu/cgi-bin/chimera_registration.py\n",
      "or by choosing 'Registration...' from the 'Help' menu next\n",
      "time you start Chimera with the gui enabled.\n",
      "\n",
      "Registration is free.  By providing the information requested\n",
      "you will be helping us document the impact this software is\n",
      "having in the scientific community. The information you supply\n",
      "will only be used for reporting summary statistics to NIH.\n"
     ]
    },
    {
     "name": "stdout",
     "output_type": "stream",
     "text": [
      "[PROGRESS] Processing dynID 88, trajectory 10852, pocket 1 ...\n",
      "/home/alex/Desktop/gpcrmd_mount/media/computation/files/Dynamics/10853_dyn_88.pdb\n",
      "/home/alex/Desktop/gpcrmd_mount/media/computation/files/Precomputed/MDpocket/10852_trj_88.xtc_mdpocket/DBSCANclustering_coordinates_pdb_10852_trj_88.xtc/1_coordinates_DBSCAN.pdb\n"
     ]
    },
    {
     "name": "stderr",
     "output_type": "stream",
     "text": [
      "You have used an unregistered copy of Chimera for 80 days.\n",
      "You can either register now by visiting:\n",
      "   http://www.cgl.ucsf.edu/cgi-bin/chimera_registration.py\n",
      "or by choosing 'Registration...' from the 'Help' menu next\n",
      "time you start Chimera with the gui enabled.\n",
      "\n",
      "Registration is free.  By providing the information requested\n",
      "you will be helping us document the impact this software is\n",
      "having in the scientific community. The information you supply\n",
      "will only be used for reporting summary statistics to NIH.\n"
     ]
    },
    {
     "name": "stdout",
     "output_type": "stream",
     "text": [
      "[PROGRESS] Processing dynID 95, trajectory 10911, pocket 1 ...\n",
      "/home/alex/Desktop/gpcrmd_mount/media/computation/files/Dynamics/10915_dyn_95.pdb\n",
      "/home/alex/Desktop/gpcrmd_mount/media/computation/files/Precomputed/MDpocket/10911_trj_95.xtc_mdpocket/DBSCANclustering_coordinates_pdb_10911_trj_95.xtc/1_coordinates_DBSCAN.pdb\n"
     ]
    },
    {
     "name": "stderr",
     "output_type": "stream",
     "text": [
      "You have used an unregistered copy of Chimera for 80 days.\n",
      "You can either register now by visiting:\n",
      "   http://www.cgl.ucsf.edu/cgi-bin/chimera_registration.py\n",
      "or by choosing 'Registration...' from the 'Help' menu next\n",
      "time you start Chimera with the gui enabled.\n",
      "\n",
      "Registration is free.  By providing the information requested\n",
      "you will be helping us document the impact this software is\n",
      "having in the scientific community. The information you supply\n",
      "will only be used for reporting summary statistics to NIH.\n"
     ]
    },
    {
     "name": "stdout",
     "output_type": "stream",
     "text": [
      "[PROGRESS] Processing dynID 101, trajectory 10963, pocket 15 ...\n",
      "/home/alex/Desktop/gpcrmd_mount/media/computation/files/Dynamics/10965_dyn_101.pdb\n",
      "/home/alex/Desktop/gpcrmd_mount/media/computation/files/Precomputed/MDpocket/10963_trj_101.xtc_mdpocket/DBSCANclustering_coordinates_pdb_10963_trj_101.xtc/15_coordinates_DBSCAN.pdb\n"
     ]
    },
    {
     "name": "stderr",
     "output_type": "stream",
     "text": [
      "You have used an unregistered copy of Chimera for 80 days.\n",
      "You can either register now by visiting:\n",
      "   http://www.cgl.ucsf.edu/cgi-bin/chimera_registration.py\n",
      "or by choosing 'Registration...' from the 'Help' menu next\n",
      "time you start Chimera with the gui enabled.\n",
      "\n",
      "Registration is free.  By providing the information requested\n",
      "you will be helping us document the impact this software is\n",
      "having in the scientific community. The information you supply\n",
      "will only be used for reporting summary statistics to NIH.\n"
     ]
    },
    {
     "name": "stdout",
     "output_type": "stream",
     "text": [
      "[PROGRESS] Processing dynID 110, trajectory 11050, pocket 3 ...\n",
      "/home/alex/Desktop/gpcrmd_mount/media/computation/files/Dynamics/11052_dyn_110.pdb\n",
      "/home/alex/Desktop/gpcrmd_mount/media/computation/files/Precomputed/MDpocket/11050_trj_110.xtc_mdpocket/DBSCANclustering_coordinates_pdb_11050_trj_110.xtc/3_coordinates_DBSCAN.pdb\n"
     ]
    },
    {
     "name": "stderr",
     "output_type": "stream",
     "text": [
      "You have used an unregistered copy of Chimera for 80 days.\n",
      "You can either register now by visiting:\n",
      "   http://www.cgl.ucsf.edu/cgi-bin/chimera_registration.py\n",
      "or by choosing 'Registration...' from the 'Help' menu next\n",
      "time you start Chimera with the gui enabled.\n",
      "\n",
      "Registration is free.  By providing the information requested\n",
      "you will be helping us document the impact this software is\n",
      "having in the scientific community. The information you supply\n",
      "will only be used for reporting summary statistics to NIH.\n"
     ]
    },
    {
     "name": "stdout",
     "output_type": "stream",
     "text": [
      "[PROGRESS] Processing dynID 119, trajectory 11152, pocket 2 ...\n",
      "/home/alex/Desktop/gpcrmd_mount/media/computation/files/Dynamics/11153_dyn_119.pdb\n",
      "/home/alex/Desktop/gpcrmd_mount/media/computation/files/Precomputed/MDpocket/11152_trj_119.xtc_mdpocket/DBSCANclustering_coordinates_pdb_11152_trj_119.xtc/2_coordinates_DBSCAN.pdb\n"
     ]
    },
    {
     "name": "stderr",
     "output_type": "stream",
     "text": [
      "You have used an unregistered copy of Chimera for 80 days.\n",
      "You can either register now by visiting:\n",
      "   http://www.cgl.ucsf.edu/cgi-bin/chimera_registration.py\n",
      "or by choosing 'Registration...' from the 'Help' menu next\n",
      "time you start Chimera with the gui enabled.\n",
      "\n",
      "Registration is free.  By providing the information requested\n",
      "you will be helping us document the impact this software is\n",
      "having in the scientific community. The information you supply\n",
      "will only be used for reporting summary statistics to NIH.\n"
     ]
    },
    {
     "name": "stdout",
     "output_type": "stream",
     "text": [
      "[PROGRESS] Processing dynID 121, trajectory 11167, pocket 13 ...\n",
      "/home/alex/Desktop/gpcrmd_mount/media/computation/files/Dynamics/11169_dyn_121.pdb\n",
      "/home/alex/Desktop/gpcrmd_mount/media/computation/files/Precomputed/MDpocket/11167_trj_121.xtc_mdpocket/DBSCANclustering_coordinates_pdb_11167_trj_121.xtc/13_coordinates_DBSCAN.pdb\n"
     ]
    },
    {
     "name": "stderr",
     "output_type": "stream",
     "text": [
      "You have used an unregistered copy of Chimera for 80 days.\n",
      "You can either register now by visiting:\n",
      "   http://www.cgl.ucsf.edu/cgi-bin/chimera_registration.py\n",
      "or by choosing 'Registration...' from the 'Help' menu next\n",
      "time you start Chimera with the gui enabled.\n",
      "\n",
      "Registration is free.  By providing the information requested\n",
      "you will be helping us document the impact this software is\n",
      "having in the scientific community. The information you supply\n",
      "will only be used for reporting summary statistics to NIH.\n"
     ]
    },
    {
     "name": "stdout",
     "output_type": "stream",
     "text": [
      "[PROGRESS] Processing dynID 123, trajectory 11183, pocket 1 ...\n",
      "/home/alex/Desktop/gpcrmd_mount/media/computation/files/Dynamics/11186_dyn_123.pdb\n",
      "/home/alex/Desktop/gpcrmd_mount/media/computation/files/Precomputed/MDpocket/11183_trj_123.xtc_mdpocket/DBSCANclustering_coordinates_pdb_11183_trj_123.xtc/1_coordinates_DBSCAN.pdb\n"
     ]
    },
    {
     "name": "stderr",
     "output_type": "stream",
     "text": [
      "You have used an unregistered copy of Chimera for 80 days.\n",
      "You can either register now by visiting:\n",
      "   http://www.cgl.ucsf.edu/cgi-bin/chimera_registration.py\n",
      "or by choosing 'Registration...' from the 'Help' menu next\n",
      "time you start Chimera with the gui enabled.\n",
      "\n",
      "Registration is free.  By providing the information requested\n",
      "you will be helping us document the impact this software is\n",
      "having in the scientific community. The information you supply\n",
      "will only be used for reporting summary statistics to NIH.\n"
     ]
    },
    {
     "name": "stdout",
     "output_type": "stream",
     "text": [
      "[PROGRESS] Processing dynID 125, trajectory 11202, pocket 4 ...\n",
      "/home/alex/Desktop/gpcrmd_mount/media/computation/files/Dynamics/11206_dyn_125.pdb\n",
      "/home/alex/Desktop/gpcrmd_mount/media/computation/files/Precomputed/MDpocket/11202_trj_125.xtc_mdpocket/DBSCANclustering_coordinates_pdb_11202_trj_125.xtc/4_coordinates_DBSCAN.pdb\n"
     ]
    },
    {
     "name": "stderr",
     "output_type": "stream",
     "text": [
      "You have used an unregistered copy of Chimera for 80 days.\n",
      "You can either register now by visiting:\n",
      "   http://www.cgl.ucsf.edu/cgi-bin/chimera_registration.py\n",
      "or by choosing 'Registration...' from the 'Help' menu next\n",
      "time you start Chimera with the gui enabled.\n",
      "\n",
      "Registration is free.  By providing the information requested\n",
      "you will be helping us document the impact this software is\n",
      "having in the scientific community. The information you supply\n",
      "will only be used for reporting summary statistics to NIH.\n"
     ]
    },
    {
     "name": "stdout",
     "output_type": "stream",
     "text": [
      "[PROGRESS] Processing dynID 140, trajectory 11842, pocket 4 ...\n",
      "/home/alex/Desktop/gpcrmd_mount/media/computation/files/Dynamics/11336_dyn_140.pdb\n",
      "/home/alex/Desktop/gpcrmd_mount/media/computation/files/Precomputed/MDpocket/11842_trj_140.xtc_mdpocket/DBSCANclustering_coordinates_pdb_11842_trj_140.xtc/4_coordinates_DBSCAN.pdb\n"
     ]
    },
    {
     "name": "stderr",
     "output_type": "stream",
     "text": [
      "You have used an unregistered copy of Chimera for 80 days.\n",
      "You can either register now by visiting:\n",
      "   http://www.cgl.ucsf.edu/cgi-bin/chimera_registration.py\n",
      "or by choosing 'Registration...' from the 'Help' menu next\n",
      "time you start Chimera with the gui enabled.\n",
      "\n",
      "Registration is free.  By providing the information requested\n",
      "you will be helping us document the impact this software is\n",
      "having in the scientific community. The information you supply\n",
      "will only be used for reporting summary statistics to NIH.\n"
     ]
    },
    {
     "name": "stdout",
     "output_type": "stream",
     "text": [
      "[PROGRESS] Processing dynID 143, trajectory 11357, pocket 12 ...\n",
      "/home/alex/Desktop/gpcrmd_mount/media/computation/files/Dynamics/11361_dyn_143.pdb\n",
      "/home/alex/Desktop/gpcrmd_mount/media/computation/files/Precomputed/MDpocket/11357_trj_143.xtc_mdpocket/DBSCANclustering_coordinates_pdb_11357_trj_143.xtc/12_coordinates_DBSCAN.pdb\n"
     ]
    },
    {
     "name": "stderr",
     "output_type": "stream",
     "text": [
      "You have used an unregistered copy of Chimera for 80 days.\n",
      "You can either register now by visiting:\n",
      "   http://www.cgl.ucsf.edu/cgi-bin/chimera_registration.py\n",
      "or by choosing 'Registration...' from the 'Help' menu next\n",
      "time you start Chimera with the gui enabled.\n",
      "\n",
      "Registration is free.  By providing the information requested\n",
      "you will be helping us document the impact this software is\n",
      "having in the scientific community. The information you supply\n",
      "will only be used for reporting summary statistics to NIH.\n"
     ]
    },
    {
     "name": "stdout",
     "output_type": "stream",
     "text": [
      "[PROGRESS] Processing dynID 145, trajectory 11373, pocket 18 ...\n",
      "/home/alex/Desktop/gpcrmd_mount/media/computation/files/Dynamics/11378_dyn_145.pdb\n",
      "/home/alex/Desktop/gpcrmd_mount/media/computation/files/Precomputed/MDpocket/11373_trj_145.xtc_mdpocket/DBSCANclustering_coordinates_pdb_11373_trj_145.xtc/18_coordinates_DBSCAN.pdb\n"
     ]
    },
    {
     "name": "stderr",
     "output_type": "stream",
     "text": [
      "You have used an unregistered copy of Chimera for 80 days.\n",
      "You can either register now by visiting:\n",
      "   http://www.cgl.ucsf.edu/cgi-bin/chimera_registration.py\n",
      "or by choosing 'Registration...' from the 'Help' menu next\n",
      "time you start Chimera with the gui enabled.\n",
      "\n",
      "Registration is free.  By providing the information requested\n",
      "you will be helping us document the impact this software is\n",
      "having in the scientific community. The information you supply\n",
      "will only be used for reporting summary statistics to NIH.\n"
     ]
    },
    {
     "name": "stdout",
     "output_type": "stream",
     "text": [
      "[PROGRESS] Processing dynID 148, trajectory 11398, pocket 3 ...\n",
      "/home/alex/Desktop/gpcrmd_mount/media/computation/files/Dynamics/11399_dyn_148.pdb\n",
      "/home/alex/Desktop/gpcrmd_mount/media/computation/files/Precomputed/MDpocket/11398_trj_148.xtc_mdpocket/DBSCANclustering_coordinates_pdb_11398_trj_148.xtc/3_coordinates_DBSCAN.pdb\n"
     ]
    },
    {
     "name": "stderr",
     "output_type": "stream",
     "text": [
      "You have used an unregistered copy of Chimera for 80 days.\n",
      "You can either register now by visiting:\n",
      "   http://www.cgl.ucsf.edu/cgi-bin/chimera_registration.py\n",
      "or by choosing 'Registration...' from the 'Help' menu next\n",
      "time you start Chimera with the gui enabled.\n",
      "\n",
      "Registration is free.  By providing the information requested\n",
      "you will be helping us document the impact this software is\n",
      "having in the scientific community. The information you supply\n",
      "will only be used for reporting summary statistics to NIH.\n"
     ]
    },
    {
     "name": "stdout",
     "output_type": "stream",
     "text": [
      "[PROGRESS] Processing dynID 155, trajectory 11463, pocket 13 ...\n",
      "/home/alex/Desktop/gpcrmd_mount/media/computation/files/Dynamics/11467_dyn_155.pdb\n",
      "/home/alex/Desktop/gpcrmd_mount/media/computation/files/Precomputed/MDpocket/11463_trj_155.xtc_mdpocket/DBSCANclustering_coordinates_pdb_11463_trj_155.xtc/13_coordinates_DBSCAN.pdb\n"
     ]
    },
    {
     "name": "stderr",
     "output_type": "stream",
     "text": [
      "You have used an unregistered copy of Chimera for 80 days.\n",
      "You can either register now by visiting:\n",
      "   http://www.cgl.ucsf.edu/cgi-bin/chimera_registration.py\n",
      "or by choosing 'Registration...' from the 'Help' menu next\n",
      "time you start Chimera with the gui enabled.\n",
      "\n",
      "Registration is free.  By providing the information requested\n",
      "you will be helping us document the impact this software is\n",
      "having in the scientific community. The information you supply\n",
      "will only be used for reporting summary statistics to NIH.\n"
     ]
    },
    {
     "name": "stdout",
     "output_type": "stream",
     "text": [
      "[PROGRESS] Processing dynID 158, trajectory 11573, pocket 0 ...\n",
      "/home/alex/Desktop/gpcrmd_mount/media/computation/files/Dynamics/11487_dyn_158.pdb\n",
      "/home/alex/Desktop/gpcrmd_mount/media/computation/files/Precomputed/MDpocket/11573_trj_158.xtc_mdpocket/DBSCANclustering_coordinates_pdb_11573_trj_158.xtc/0_coordinates_DBSCAN.pdb\n"
     ]
    },
    {
     "name": "stderr",
     "output_type": "stream",
     "text": [
      "You have used an unregistered copy of Chimera for 80 days.\n",
      "You can either register now by visiting:\n",
      "   http://www.cgl.ucsf.edu/cgi-bin/chimera_registration.py\n",
      "or by choosing 'Registration...' from the 'Help' menu next\n",
      "time you start Chimera with the gui enabled.\n",
      "\n",
      "Registration is free.  By providing the information requested\n",
      "you will be helping us document the impact this software is\n",
      "having in the scientific community. The information you supply\n",
      "will only be used for reporting summary statistics to NIH.\n"
     ]
    },
    {
     "name": "stdout",
     "output_type": "stream",
     "text": [
      "[PROGRESS] Processing dynID 161, trajectory 11765, pocket 4 ...\n",
      "/home/alex/Desktop/gpcrmd_mount/media/computation/files/Dynamics/11768_dyn_161.pdb\n",
      "/home/alex/Desktop/gpcrmd_mount/media/computation/files/Precomputed/MDpocket/11765_trj_161.xtc_mdpocket/DBSCANclustering_coordinates_pdb_11765_trj_161.xtc/4_coordinates_DBSCAN.pdb\n"
     ]
    },
    {
     "name": "stderr",
     "output_type": "stream",
     "text": [
      "You have used an unregistered copy of Chimera for 80 days.\n",
      "You can either register now by visiting:\n",
      "   http://www.cgl.ucsf.edu/cgi-bin/chimera_registration.py\n",
      "or by choosing 'Registration...' from the 'Help' menu next\n",
      "time you start Chimera with the gui enabled.\n",
      "\n",
      "Registration is free.  By providing the information requested\n",
      "you will be helping us document the impact this software is\n",
      "having in the scientific community. The information you supply\n",
      "will only be used for reporting summary statistics to NIH.\n"
     ]
    },
    {
     "name": "stdout",
     "output_type": "stream",
     "text": [
      "[PROGRESS] Processing dynID 184, trajectory 11713, pocket 1 ...\n",
      "/home/alex/Desktop/gpcrmd_mount/media/computation/files/Dynamics/11716_dyn_184.pdb\n",
      "/home/alex/Desktop/gpcrmd_mount/media/computation/files/Precomputed/MDpocket/11713_trj_184.xtc_mdpocket/DBSCANclustering_coordinates_pdb_11713_trj_184.xtc/1_coordinates_DBSCAN.pdb\n"
     ]
    },
    {
     "name": "stderr",
     "output_type": "stream",
     "text": [
      "You have used an unregistered copy of Chimera for 80 days.\n",
      "You can either register now by visiting:\n",
      "   http://www.cgl.ucsf.edu/cgi-bin/chimera_registration.py\n",
      "or by choosing 'Registration...' from the 'Help' menu next\n",
      "time you start Chimera with the gui enabled.\n",
      "\n",
      "Registration is free.  By providing the information requested\n",
      "you will be helping us document the impact this software is\n",
      "having in the scientific community. The information you supply\n",
      "will only be used for reporting summary statistics to NIH.\n"
     ]
    },
    {
     "name": "stdout",
     "output_type": "stream",
     "text": [
      "[PROGRESS] Processing dynID 187, trajectory 11733, pocket 21 ...\n",
      "/home/alex/Desktop/gpcrmd_mount/media/computation/files/Dynamics/11737_dyn_187.pdb\n",
      "/home/alex/Desktop/gpcrmd_mount/media/computation/files/Precomputed/MDpocket/11733_trj_187.xtc_mdpocket/DBSCANclustering_coordinates_pdb_11733_trj_187.xtc/21_coordinates_DBSCAN.pdb\n"
     ]
    },
    {
     "name": "stderr",
     "output_type": "stream",
     "text": [
      "You have used an unregistered copy of Chimera for 80 days.\n",
      "You can either register now by visiting:\n",
      "   http://www.cgl.ucsf.edu/cgi-bin/chimera_registration.py\n",
      "or by choosing 'Registration...' from the 'Help' menu next\n",
      "time you start Chimera with the gui enabled.\n",
      "\n",
      "Registration is free.  By providing the information requested\n",
      "you will be helping us document the impact this software is\n",
      "having in the scientific community. The information you supply\n",
      "will only be used for reporting summary statistics to NIH.\n"
     ]
    },
    {
     "name": "stdout",
     "output_type": "stream",
     "text": [
      "[PROGRESS] Processing dynID 187, trajectory 11735, pocket 14 ...\n",
      "/home/alex/Desktop/gpcrmd_mount/media/computation/files/Dynamics/11737_dyn_187.pdb\n",
      "/home/alex/Desktop/gpcrmd_mount/media/computation/files/Precomputed/MDpocket/11735_trj_187.xtc_mdpocket/DBSCANclustering_coordinates_pdb_11735_trj_187.xtc/14_coordinates_DBSCAN.pdb\n"
     ]
    },
    {
     "name": "stderr",
     "output_type": "stream",
     "text": [
      "You have used an unregistered copy of Chimera for 80 days.\n",
      "You can either register now by visiting:\n",
      "   http://www.cgl.ucsf.edu/cgi-bin/chimera_registration.py\n",
      "or by choosing 'Registration...' from the 'Help' menu next\n",
      "time you start Chimera with the gui enabled.\n",
      "\n",
      "Registration is free.  By providing the information requested\n",
      "you will be helping us document the impact this software is\n",
      "having in the scientific community. The information you supply\n",
      "will only be used for reporting summary statistics to NIH.\n"
     ]
    },
    {
     "name": "stdout",
     "output_type": "stream",
     "text": [
      "[PROGRESS] Processing dynID 194, trajectory 11785, pocket 12 ...\n",
      "/home/alex/Desktop/gpcrmd_mount/media/computation/files/Dynamics/11788_dyn_194.pdb\n",
      "/home/alex/Desktop/gpcrmd_mount/media/computation/files/Precomputed/MDpocket/11785_trj_194.xtc_mdpocket/DBSCANclustering_coordinates_pdb_11785_trj_194.xtc/12_coordinates_DBSCAN.pdb\n"
     ]
    },
    {
     "name": "stderr",
     "output_type": "stream",
     "text": [
      "You have used an unregistered copy of Chimera for 80 days.\n",
      "You can either register now by visiting:\n",
      "   http://www.cgl.ucsf.edu/cgi-bin/chimera_registration.py\n",
      "or by choosing 'Registration...' from the 'Help' menu next\n",
      "time you start Chimera with the gui enabled.\n",
      "\n",
      "Registration is free.  By providing the information requested\n",
      "you will be helping us document the impact this software is\n",
      "having in the scientific community. The information you supply\n",
      "will only be used for reporting summary statistics to NIH.\n"
     ]
    },
    {
     "name": "stdout",
     "output_type": "stream",
     "text": [
      "[PROGRESS] Processing dynID 205, trajectory 11931, pocket 21 ...\n",
      "/home/alex/Desktop/gpcrmd_mount/media/computation/files/Dynamics/11934_dyn_205.pdb\n",
      "/home/alex/Desktop/gpcrmd_mount/media/computation/files/Precomputed/MDpocket/11931_trj_205.xtc_mdpocket/DBSCANclustering_coordinates_pdb_11931_trj_205.xtc/21_coordinates_DBSCAN.pdb\n"
     ]
    },
    {
     "name": "stderr",
     "output_type": "stream",
     "text": [
      "You have used an unregistered copy of Chimera for 80 days.\n",
      "You can either register now by visiting:\n",
      "   http://www.cgl.ucsf.edu/cgi-bin/chimera_registration.py\n",
      "or by choosing 'Registration...' from the 'Help' menu next\n",
      "time you start Chimera with the gui enabled.\n",
      "\n",
      "Registration is free.  By providing the information requested\n",
      "you will be helping us document the impact this software is\n",
      "having in the scientific community. The information you supply\n",
      "will only be used for reporting summary statistics to NIH.\n"
     ]
    },
    {
     "name": "stdout",
     "output_type": "stream",
     "text": [
      "[PROGRESS] Processing dynID 754, trajectory 15462, pocket 1 ...\n",
      "/home/alex/Desktop/gpcrmd_mount/media/computation/files/Dynamics/17733_dyn_754.pdb\n",
      "/home/alex/Desktop/gpcrmd_mount/media/computation/files/Precomputed/MDpocket/15462_trj_754.xtc_mdpocket/DBSCANclustering_coordinates_pdb_15462_trj_754.xtc/1_coordinates_DBSCAN.pdb\n"
     ]
    },
    {
     "name": "stderr",
     "output_type": "stream",
     "text": [
      "You have used an unregistered copy of Chimera for 80 days.\n",
      "You can either register now by visiting:\n",
      "   http://www.cgl.ucsf.edu/cgi-bin/chimera_registration.py\n",
      "or by choosing 'Registration...' from the 'Help' menu next\n",
      "time you start Chimera with the gui enabled.\n",
      "\n",
      "Registration is free.  By providing the information requested\n",
      "you will be helping us document the impact this software is\n",
      "having in the scientific community. The information you supply\n",
      "will only be used for reporting summary statistics to NIH.\n"
     ]
    },
    {
     "name": "stdout",
     "output_type": "stream",
     "text": [
      "[PROGRESS] Processing dynID 850, trajectory 15219, pocket 0 ...\n",
      "/home/alex/Desktop/gpcrmd_mount/media/computation/files/Dynamics/17914_dyn_850.pdb\n",
      "/home/alex/Desktop/gpcrmd_mount/media/computation/files/Precomputed/MDpocket/15219_trj_850.xtc_mdpocket/DBSCANclustering_coordinates_pdb_15219_trj_850.xtc/0_coordinates_DBSCAN.pdb\n"
     ]
    },
    {
     "name": "stderr",
     "output_type": "stream",
     "text": [
      "You have used an unregistered copy of Chimera for 80 days.\n",
      "You can either register now by visiting:\n",
      "   http://www.cgl.ucsf.edu/cgi-bin/chimera_registration.py\n",
      "or by choosing 'Registration...' from the 'Help' menu next\n",
      "time you start Chimera with the gui enabled.\n",
      "\n",
      "Registration is free.  By providing the information requested\n",
      "you will be helping us document the impact this software is\n",
      "having in the scientific community. The information you supply\n",
      "will only be used for reporting summary statistics to NIH.\n"
     ]
    },
    {
     "name": "stdout",
     "output_type": "stream",
     "text": [
      "[PROGRESS] Processing dynID 877, trajectory 16298, pocket 0 ...\n",
      "/home/alex/Desktop/gpcrmd_mount/media/computation/files/Dynamics/17964_dyn_877.pdb\n",
      "/home/alex/Desktop/gpcrmd_mount/media/computation/files/Precomputed/MDpocket/16298_trj_877.xtc_mdpocket/DBSCANclustering_coordinates_pdb_16298_trj_877.xtc/0_coordinates_DBSCAN.pdb\n"
     ]
    },
    {
     "name": "stderr",
     "output_type": "stream",
     "text": [
      "You have used an unregistered copy of Chimera for 80 days.\n",
      "You can either register now by visiting:\n",
      "   http://www.cgl.ucsf.edu/cgi-bin/chimera_registration.py\n",
      "or by choosing 'Registration...' from the 'Help' menu next\n",
      "time you start Chimera with the gui enabled.\n",
      "\n",
      "Registration is free.  By providing the information requested\n",
      "you will be helping us document the impact this software is\n",
      "having in the scientific community. The information you supply\n",
      "will only be used for reporting summary statistics to NIH.\n"
     ]
    },
    {
     "name": "stdout",
     "output_type": "stream",
     "text": [
      "[PROGRESS] Processing dynID 879, trajectory 15421, pocket 0 ...\n",
      "/home/alex/Desktop/gpcrmd_mount/media/computation/files/Dynamics/17968_dyn_879.pdb\n",
      "/home/alex/Desktop/gpcrmd_mount/media/computation/files/Precomputed/MDpocket/15421_trj_879.xtc_mdpocket/DBSCANclustering_coordinates_pdb_15421_trj_879.xtc/0_coordinates_DBSCAN.pdb\n"
     ]
    },
    {
     "name": "stderr",
     "output_type": "stream",
     "text": [
      "You have used an unregistered copy of Chimera for 80 days.\n",
      "You can either register now by visiting:\n",
      "   http://www.cgl.ucsf.edu/cgi-bin/chimera_registration.py\n",
      "or by choosing 'Registration...' from the 'Help' menu next\n",
      "time you start Chimera with the gui enabled.\n",
      "\n",
      "Registration is free.  By providing the information requested\n",
      "you will be helping us document the impact this software is\n",
      "having in the scientific community. The information you supply\n",
      "will only be used for reporting summary statistics to NIH.\n"
     ]
    },
    {
     "name": "stdout",
     "output_type": "stream",
     "text": [
      "[PROGRESS] Processing dynID 909, trajectory 15627, pocket 3 ...\n",
      "/home/alex/Desktop/gpcrmd_mount/media/computation/files/Dynamics/18023_dyn_909.pdb\n",
      "/home/alex/Desktop/gpcrmd_mount/media/computation/files/Precomputed/MDpocket/15627_trj_909.xtc_mdpocket/DBSCANclustering_coordinates_pdb_15627_trj_909.xtc/3_coordinates_DBSCAN.pdb\n"
     ]
    },
    {
     "name": "stderr",
     "output_type": "stream",
     "text": [
      "You have used an unregistered copy of Chimera for 80 days.\n",
      "You can either register now by visiting:\n",
      "   http://www.cgl.ucsf.edu/cgi-bin/chimera_registration.py\n",
      "or by choosing 'Registration...' from the 'Help' menu next\n",
      "time you start Chimera with the gui enabled.\n",
      "\n",
      "Registration is free.  By providing the information requested\n",
      "you will be helping us document the impact this software is\n",
      "having in the scientific community. The information you supply\n",
      "will only be used for reporting summary statistics to NIH.\n"
     ]
    },
    {
     "name": "stdout",
     "output_type": "stream",
     "text": [
      "[PROGRESS] Processing dynID 931, trajectory 15769, pocket 5 ...\n",
      "/home/alex/Desktop/gpcrmd_mount/media/computation/files/Dynamics/18067_dyn_931.pdb\n",
      "/home/alex/Desktop/gpcrmd_mount/media/computation/files/Precomputed/MDpocket/15769_trj_931.xtc_mdpocket/DBSCANclustering_coordinates_pdb_15769_trj_931.xtc/5_coordinates_DBSCAN.pdb\n"
     ]
    },
    {
     "name": "stderr",
     "output_type": "stream",
     "text": [
      "You have used an unregistered copy of Chimera for 80 days.\n",
      "You can either register now by visiting:\n",
      "   http://www.cgl.ucsf.edu/cgi-bin/chimera_registration.py\n",
      "or by choosing 'Registration...' from the 'Help' menu next\n",
      "time you start Chimera with the gui enabled.\n",
      "\n",
      "Registration is free.  By providing the information requested\n",
      "you will be helping us document the impact this software is\n",
      "having in the scientific community. The information you supply\n",
      "will only be used for reporting summary statistics to NIH.\n"
     ]
    },
    {
     "name": "stdout",
     "output_type": "stream",
     "text": [
      "[PROGRESS] Processing dynID 955, trajectory 15939, pocket 0 ...\n",
      "/home/alex/Desktop/gpcrmd_mount/media/computation/files/Dynamics/18111_dyn_955.pdb\n",
      "/home/alex/Desktop/gpcrmd_mount/media/computation/files/Precomputed/MDpocket/15939_trj_955.xtc_mdpocket/DBSCANclustering_coordinates_pdb_15939_trj_955.xtc/0_coordinates_DBSCAN.pdb\n"
     ]
    },
    {
     "name": "stderr",
     "output_type": "stream",
     "text": [
      "You have used an unregistered copy of Chimera for 80 days.\n",
      "You can either register now by visiting:\n",
      "   http://www.cgl.ucsf.edu/cgi-bin/chimera_registration.py\n",
      "or by choosing 'Registration...' from the 'Help' menu next\n",
      "time you start Chimera with the gui enabled.\n",
      "\n",
      "Registration is free.  By providing the information requested\n",
      "you will be helping us document the impact this software is\n",
      "having in the scientific community. The information you supply\n",
      "will only be used for reporting summary statistics to NIH.\n"
     ]
    },
    {
     "name": "stdout",
     "output_type": "stream",
     "text": [
      "[PROGRESS] Processing dynID 966, trajectory 16902, pocket 10 ...\n",
      "/home/alex/Desktop/gpcrmd_mount/media/computation/files/Dynamics/18133_dyn_966.pdb\n",
      "/home/alex/Desktop/gpcrmd_mount/media/computation/files/Precomputed/MDpocket/16902_trj_966.xtc_mdpocket/DBSCANclustering_coordinates_pdb_16902_trj_966.xtc/10_coordinates_DBSCAN.pdb\n"
     ]
    },
    {
     "name": "stderr",
     "output_type": "stream",
     "text": [
      "You have used an unregistered copy of Chimera for 80 days.\n",
      "You can either register now by visiting:\n",
      "   http://www.cgl.ucsf.edu/cgi-bin/chimera_registration.py\n",
      "or by choosing 'Registration...' from the 'Help' menu next\n",
      "time you start Chimera with the gui enabled.\n",
      "\n",
      "Registration is free.  By providing the information requested\n",
      "you will be helping us document the impact this software is\n",
      "having in the scientific community. The information you supply\n",
      "will only be used for reporting summary statistics to NIH.\n"
     ]
    },
    {
     "name": "stdout",
     "output_type": "stream",
     "text": [
      "[PROGRESS] Processing dynID 993, trajectory 17076, pocket 0 ...\n",
      "/home/alex/Desktop/gpcrmd_mount/media/computation/files/Dynamics/18181_dyn_993.pdb\n",
      "/home/alex/Desktop/gpcrmd_mount/media/computation/files/Precomputed/MDpocket/17076_trj_993.xtc_mdpocket/DBSCANclustering_coordinates_pdb_17076_trj_993.xtc/0_coordinates_DBSCAN.pdb\n"
     ]
    },
    {
     "name": "stderr",
     "output_type": "stream",
     "text": [
      "You have used an unregistered copy of Chimera for 80 days.\n",
      "You can either register now by visiting:\n",
      "   http://www.cgl.ucsf.edu/cgi-bin/chimera_registration.py\n",
      "or by choosing 'Registration...' from the 'Help' menu next\n",
      "time you start Chimera with the gui enabled.\n",
      "\n",
      "Registration is free.  By providing the information requested\n",
      "you will be helping us document the impact this software is\n",
      "having in the scientific community. The information you supply\n",
      "will only be used for reporting summary statistics to NIH.\n"
     ]
    }
   ],
   "source": [
    "generate_dirs()\n",
    "\n",
    "compl_info = read_json_into_dict(COMPL_INFO_PATH)\n",
    "\n",
    "for dyn_id, traj_id, pocket_id in get_target_ids(input_csv_path):\n",
    "    print(f\"[PROGRESS] Processing dynID {dyn_id}, trajectory {traj_id}, pocket {pocket_id} ...\")\n",
    "    entry_data = compl_info.get(f'dyn{str(dyn_id)}', None)\n",
    "    if entry_data is None:\n",
    "        print(f\"[ERROR] Entry for dynID {dyn_id} not found in compl_info.\")\n",
    "        continue\n",
    "\n",
    "    # Get the PDB path for the structure.\n",
    "    pdb_path_noroot = entry_data.get('struc_f', None)[1:] # Remove the first \"/\"\n",
    "    pdb_path = os.path.join(ROOT_GPCRMD, pdb_path_noroot)\n",
    "\n",
    "    # Get the TM residues and convert it to a chimera selection (ranges).\n",
    "    tm_resids = get_tm_resids(entry_data)\n",
    "    tm_resids_sel = convert_to_ranges(tm_resids)\n",
    "\n",
    "    # Get the pocket file path.\n",
    "    pocket_pdb_file = os.path.join(\n",
    "        ROOT_GPCRMD,\n",
    "        \"Precomputed/MDpocket/\"\n",
    "        f\"{str(traj_id)}_trj_{str(dyn_id)}.xtc_mdpocket/\"\n",
    "        f\"DBSCANclustering_coordinates_pdb_{str(traj_id)}_trj_{str(dyn_id)}.xtc/\"\n",
    "        f\"{str(pocket_id)}_coordinates_DBSCAN.pdb\"\n",
    "    )\n",
    "    print(pdb_path)\n",
    "    print(pocket_pdb_file)\n",
    "\n",
    "    chimera_align(\n",
    "        target_pdb=pdb_path,\n",
    "        pocket_pdb=pocket_pdb_file,\n",
    "        tm_resids_target_sel=tm_resids_sel,\n",
    "        ids=[dyn_id, traj_id, pocket_id]\n",
    "    )"
   ]
  },
  {
   "cell_type": "code",
   "execution_count": null,
   "id": "fadd3536",
   "metadata": {},
   "outputs": [],
   "source": []
  }
 ],
 "metadata": {
  "kernelspec": {
   "display_name": "md_analysis",
   "language": "python",
   "name": "python3"
  },
  "language_info": {
   "codemirror_mode": {
    "name": "ipython",
    "version": 3
   },
   "file_extension": ".py",
   "mimetype": "text/x-python",
   "name": "python",
   "nbconvert_exporter": "python",
   "pygments_lexer": "ipython3",
   "version": "3.11.6"
  }
 },
 "nbformat": 4,
 "nbformat_minor": 5
}
